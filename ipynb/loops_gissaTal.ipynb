{
  "cells": [
    {
      "cell_type": "markdown",
      "id": "e3fb5ccd",
      "metadata": {
        "id": "e3fb5ccd"
      },
      "source": [
        "## Repetition ##\n",
        "\n",
        "Läs igenom och förstå."
      ]
    },
    {
      "cell_type": "markdown",
      "id": "d9b70069",
      "metadata": {},
      "source": [
        "### if, elif och else ###"
      ]
    },
    {
      "cell_type": "code",
      "execution_count": null,
      "id": "4a95baee",
      "metadata": {
        "id": "4a95baee"
      },
      "outputs": [],
      "source": [
        "# if, elif och else\n",
        "linus = 13   \n",
        "a = linus                  # Sätt variabeln a till samma värde som linus har\n",
        "if a==4:             # Förstår att det blir True / False. Jämför med ==  och tilldela med =\n",
        "    print(\"talet är 4\")\n",
        "elif a==3:           # Annars om. \n",
        "    print(\"talet är 3\")\n",
        "elif a==2:           #Annars om\n",
        "    print(\"talet är 2\")\n",
        "else:                # Annars\n",
        "    print(\"Talet \" + str(a) + \" är inte bland 2 till 4\")     # str(a) = 'a'  .... istället för värdet 5\n",
        "if a != 12:\n",
        "    print(\"Talet är inte heller lika med 12\")"
      ]
    },
    {
      "cell_type": "markdown",
      "id": "fe43b5ec",
      "metadata": {
        "id": "fe43b5ec"
      },
      "source": [
        "## Loopar"
      ]
    },
    {
      "cell_type": "code",
      "execution_count": null,
      "id": "10f44c00",
      "metadata": {
        "id": "10f44c00"
      },
      "outputs": [],
      "source": [
        "for i in range(10):\n",
        "    print(i+1)"
      ]
    },
    {
      "cell_type": "code",
      "execution_count": null,
      "id": "c3579d46",
      "metadata": {
        "id": "c3579d46"
      },
      "outputs": [],
      "source": [
        "for i in range(1,11):\n",
        "    print(i)"
      ]
    },
    {
      "cell_type": "code",
      "execution_count": null,
      "id": "aaf4d235",
      "metadata": {
        "id": "aaf4d235"
      },
      "outputs": [],
      "source": [
        "count = 1\n",
        "while(count < 11):\n",
        "    print(count)\n",
        "    count = count + 1"
      ]
    },
    {
      "cell_type": "markdown",
      "id": "9a9e35d7",
      "metadata": {
        "id": "9a9e35d7"
      },
      "source": [
        "## Ett litet \"spel\" - Gissa ett tal"
      ]
    },
    {
      "cell_type": "code",
      "execution_count": null,
      "id": "e51c40d9",
      "metadata": {
        "id": "e51c40d9"
      },
      "outputs": [],
      "source": [
        "antalGissn = 5\n",
        "while antalGissn > 0:\n",
        "    print(antalGissn)\n",
        "    antalGissn = antalGissn - 1 #räkna ner antal gissn som är kvar\n",
        "    # Här lägger du in din egen kod om vad som ska utföras\n"
      ]
    },
    {
      "cell_type": "markdown",
      "id": "9abfb636",
      "metadata": {
        "id": "9abfb636"
      },
      "source": [
        "# Listor"
      ]
    },
    {
      "cell_type": "code",
      "execution_count": null,
      "id": "640ffca4",
      "metadata": {
        "id": "640ffca4"
      },
      "outputs": [],
      "source": [
        "lista = [1,2,3,7]  # alt/opt + 8\n",
        "print(lista)\n"
      ]
    },
    {
      "cell_type": "code",
      "execution_count": null,
      "id": "efb5b29a",
      "metadata": {
        "id": "efb5b29a"
      },
      "outputs": [],
      "source": [
        "lista = [1,2.45,False,\"helt_plötsligt_ett_ord\"]"
      ]
    },
    {
      "cell_type": "code",
      "execution_count": null,
      "id": "0aa02334",
      "metadata": {
        "id": "0aa02334"
      },
      "outputs": [],
      "source": [
        "print(lista)"
      ]
    },
    {
      "cell_type": "markdown",
      "id": "0225e2ab",
      "metadata": {
        "id": "0225e2ab"
      },
      "source": [
        "### Om vi ska få tag i ett värde från en specifik plats i listan (indexera)"
      ]
    },
    {
      "cell_type": "code",
      "execution_count": null,
      "id": "2063b48e",
      "metadata": {
        "id": "2063b48e"
      },
      "outputs": [],
      "source": [
        "print(lista[3])"
      ]
    },
    {
      "cell_type": "markdown",
      "id": "a9d0172f",
      "metadata": {
        "id": "a9d0172f"
      },
      "source": [
        "### index (och det mesta andra) börjar alltid från NOLL!"
      ]
    },
    {
      "cell_type": "code",
      "execution_count": null,
      "id": "6fe961a6",
      "metadata": {
        "id": "6fe961a6"
      },
      "outputs": [],
      "source": [
        "lista[0]"
      ]
    },
    {
      "cell_type": "markdown",
      "id": "0103d075",
      "metadata": {},
      "source": [
        "Man kan såklart bygga på med nya element, efter listan är skapad"
      ]
    },
    {
      "cell_type": "code",
      "execution_count": null,
      "id": "c4ad3f5a",
      "metadata": {
        "id": "c4ad3f5a"
      },
      "outputs": [],
      "source": [
        "lista = [1,2.45,False,\"helt_plötsligt_en_sträng\"]\n",
        "ny_grej_till_lista = input(\"Vad mer? \")\n",
        "lista.append(ny_grej_till_lista)\n",
        "print(lista)"
      ]
    },
    {
      "cell_type": "markdown",
      "id": "acd52759",
      "metadata": {
        "id": "acd52759"
      },
      "source": [
        "### Loopa en lista"
      ]
    },
    {
      "cell_type": "code",
      "execution_count": null,
      "id": "7bd835ff",
      "metadata": {
        "id": "7bd835ff"
      },
      "outputs": [],
      "source": [
        "lista = [1,2.45,False,\"helt_plötsligt_ett_ord\"]\n",
        "for item in lista:\n",
        "    print(item)\n"
      ]
    }
  ],
  "metadata": {
    "colab": {
      "provenance": []
    },
    "kernelspec": {
      "display_name": "Python 3 (ipykernel)",
      "language": "python",
      "name": "python3"
    },
    "language_info": {
      "codemirror_mode": {
        "name": "ipython",
        "version": 3
      },
      "file_extension": ".py",
      "mimetype": "text/x-python",
      "name": "python",
      "nbconvert_exporter": "python",
      "pygments_lexer": "ipython3",
      "version": "3.9.7"
    }
  },
  "nbformat": 4,
  "nbformat_minor": 5
}
