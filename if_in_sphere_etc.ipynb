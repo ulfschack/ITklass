{
 "cells": [
  {
   "cell_type": "markdown",
   "id": "6174c237",
   "metadata": {},
   "source": [
    "# If, in, matte o sånt"
   ]
  },
  {
   "cell_type": "markdown",
   "id": "f88b56e5",
   "metadata": {},
   "source": [
    "### Övn 1"
   ]
  },
  {
   "cell_type": "markdown",
   "id": "05e1f5c5",
   "metadata": {},
   "source": [
    "Skriv ett program som beräknar volymen av en sfär, efter du matat in radien.\n",
    "Formeln är:"
   ]
  },
  {
   "cell_type": "markdown",
   "id": "b3d78f66",
   "metadata": {},
   "source": [
    "$ V = \\frac{4}{3}\\pi r^3  $"
   ]
  },
  {
   "cell_type": "code",
   "execution_count": 2,
   "id": "0cae69da",
   "metadata": {},
   "outputs": [
    {
     "name": "stdout",
     "output_type": "stream",
     "text": [
      "Vilken radie har sfären?5\n",
      "Sfären har volymen 524 volymenheter\n"
     ]
    }
   ],
   "source": [
    "import math   # Behövs för Pi\n",
    "radie = int(input(\"Vilken radie har sfären?\"))"
   ]
  },
  {
   "cell_type": "markdown",
   "id": "2aa3ae48",
   "metadata": {},
   "source": [
    "### Info"
   ]
  },
  {
   "cell_type": "markdown",
   "id": "94205923",
   "metadata": {},
   "source": [
    "Det finns många ställen python använder boolsk algebra (True/False) för\n",
    "att utföra nåt specifikt kommando (t.ex kommandot **print** nedan). Vi har redan pratat om **if** och **while**.<br> Exempelvis:"
   ]
  },
  {
   "cell_type": "code",
   "execution_count": null,
   "id": "49464536",
   "metadata": {},
   "outputs": [],
   "source": [
    "x = 3\n",
    "if x > 2:\n",
    "    print(\"X är större än 2\")"
   ]
  },
  {
   "cell_type": "markdown",
   "id": "492ec1a9",
   "metadata": {},
   "source": [
    "Men det finns även funktionalitet för logiska operationer på \n",
    "både listor och strängar. Man använder nyckelordet **in**.\n",
    "Exempelvis"
   ]
  },
  {
   "cell_type": "code",
   "execution_count": 3,
   "id": "59273424",
   "metadata": {},
   "outputs": [
    {
     "name": "stdout",
     "output_type": "stream",
     "text": [
      "True\n"
     ]
    }
   ],
   "source": [
    "lista = [27, \"nässpray\", False, '%']\n",
    "print(27 in lista)"
   ]
  },
  {
   "cell_type": "markdown",
   "id": "d018cbb3",
   "metadata": {},
   "source": [
    "### Övn 2"
   ]
  },
  {
   "cell_type": "markdown",
   "id": "235104d2",
   "metadata": {},
   "source": [
    "Ett program som kollar om inmatat heltal finns i en given lista. \n",
    "Svara True/False."
   ]
  },
  {
   "cell_type": "code",
   "execution_count": 1,
   "id": "6fe6963b",
   "metadata": {},
   "outputs": [],
   "source": [
    "lista = [1, 5, 8, 3, 17, 54, 128]\n",
    "tal = int(input(\"skriv nåt heltal: \"))\n",
    "\n",
    "# Din kod här"
   ]
  },
  {
   "cell_type": "markdown",
   "id": "b5423eda",
   "metadata": {},
   "source": [
    "### Övn 3"
   ]
  },
  {
   "cell_type": "markdown",
   "id": "b435ff50",
   "metadata": {},
   "source": [
    "Med hjälp av detta skriv ett program som svarar ifall en inmatad bokstav är en vokal eller inte"
   ]
  },
  {
   "cell_type": "code",
   "execution_count": null,
   "id": "07e42516",
   "metadata": {},
   "outputs": [],
   "source": [
    "# Vokalerna är a,o,u,å,e,i,y,ä,ö"
   ]
  }
 ],
 "metadata": {
  "kernelspec": {
   "display_name": "Python 3 (ipykernel)",
   "language": "python",
   "name": "python3"
  },
  "language_info": {
   "codemirror_mode": {
    "name": "ipython",
    "version": 3
   },
   "file_extension": ".py",
   "mimetype": "text/x-python",
   "name": "python",
   "nbconvert_exporter": "python",
   "pygments_lexer": "ipython3",
   "version": "3.10.12"
  }
 },
 "nbformat": 4,
 "nbformat_minor": 5
}
